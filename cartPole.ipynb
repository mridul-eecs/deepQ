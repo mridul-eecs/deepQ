{
  "nbformat": 4,
  "nbformat_minor": 0,
  "metadata": {
    "orig_nbformat": 2,
    "file_extension": ".py",
    "mimetype": "text/x-python",
    "name": "python",
    "npconvert_exporter": "python",
    "pygments_lexer": "ipython3",
    "version": 3,
    "colab": {
      "name": "cartPole.ipynb",
      "provenance": [],
      "include_colab_link": true
    },
    "kernelspec": {
      "name": "python3",
      "display_name": "Python 3"
    },
    "accelerator": "GPU"
  },
  "cells": [
    {
      "cell_type": "markdown",
      "metadata": {
        "id": "view-in-github",
        "colab_type": "text"
      },
      "source": [
        "<a href=\"https://colab.research.google.com/github/mridul-eecs/deepQ/blob/master/cartPole.ipynb\" target=\"_parent\"><img src=\"https://colab.research.google.com/assets/colab-badge.svg\" alt=\"Open In Colab\"/></a>"
      ]
    },
    {
      "cell_type": "code",
      "metadata": {
        "id": "4nhiEGWXvbOE",
        "colab_type": "code",
        "outputId": "450422f4-3b29-46ac-efc1-e8d0ec24c7b3",
        "colab": {
          "base_uri": "https://localhost:8080/",
          "height": 170
        }
      },
      "source": [
        "#remove \" > /dev/null 2>&1\" to see what is going on under the hood\n",
        "!pip install pyglet==1.3.2\n",
        "!pip install gym pyvirtualdisplay > /dev/null 2>&1\n",
        "!apt-get install -y xvfb python-opengl ffmpeg > /dev/null 2>&1"
      ],
      "execution_count": 1,
      "outputs": [
        {
          "output_type": "stream",
          "text": [
            "Collecting pyglet==1.3.2\n",
            "\u001b[?25l  Downloading https://files.pythonhosted.org/packages/1c/fc/dad5eaaab68f0c21e2f906a94ddb98175662cc5a654eee404d59554ce0fa/pyglet-1.3.2-py2.py3-none-any.whl (1.0MB)\n",
            "\r\u001b[K     |▎                               | 10kB 20.1MB/s eta 0:00:01\r\u001b[K     |▋                               | 20kB 4.3MB/s eta 0:00:01\r\u001b[K     |█                               | 30kB 6.1MB/s eta 0:00:01\r\u001b[K     |█▎                              | 40kB 4.0MB/s eta 0:00:01\r\u001b[K     |█▋                              | 51kB 4.8MB/s eta 0:00:01\r\u001b[K     |██                              | 61kB 5.7MB/s eta 0:00:01\r\u001b[K     |██▎                             | 71kB 6.5MB/s eta 0:00:01\r\u001b[K     |██▋                             | 81kB 7.2MB/s eta 0:00:01\r\u001b[K     |███                             | 92kB 7.9MB/s eta 0:00:01\r\u001b[K     |███▎                            | 102kB 6.4MB/s eta 0:00:01\r\u001b[K     |███▌                            | 112kB 6.4MB/s eta 0:00:01\r\u001b[K     |███▉                            | 122kB 6.4MB/s eta 0:00:01\r\u001b[K     |████▏                           | 133kB 6.4MB/s eta 0:00:01\r\u001b[K     |████▌                           | 143kB 6.4MB/s eta 0:00:01\r\u001b[K     |████▉                           | 153kB 6.4MB/s eta 0:00:01\r\u001b[K     |█████▏                          | 163kB 6.4MB/s eta 0:00:01\r\u001b[K     |█████▌                          | 174kB 6.4MB/s eta 0:00:01\r\u001b[K     |█████▉                          | 184kB 6.4MB/s eta 0:00:01\r\u001b[K     |██████▏                         | 194kB 6.4MB/s eta 0:00:01\r\u001b[K     |██████▌                         | 204kB 6.4MB/s eta 0:00:01\r\u001b[K     |██████▊                         | 215kB 6.4MB/s eta 0:00:01\r\u001b[K     |███████                         | 225kB 6.4MB/s eta 0:00:01\r\u001b[K     |███████▍                        | 235kB 6.4MB/s eta 0:00:01\r\u001b[K     |███████▊                        | 245kB 6.4MB/s eta 0:00:01\r\u001b[K     |████████                        | 256kB 6.4MB/s eta 0:00:01\r\u001b[K     |████████▍                       | 266kB 6.4MB/s eta 0:00:01\r\u001b[K     |████████▊                       | 276kB 6.4MB/s eta 0:00:01\r\u001b[K     |█████████                       | 286kB 6.4MB/s eta 0:00:01\r\u001b[K     |█████████▍                      | 296kB 6.4MB/s eta 0:00:01\r\u001b[K     |█████████▊                      | 307kB 6.4MB/s eta 0:00:01\r\u001b[K     |██████████                      | 317kB 6.4MB/s eta 0:00:01\r\u001b[K     |██████████▎                     | 327kB 6.4MB/s eta 0:00:01\r\u001b[K     |██████████▋                     | 337kB 6.4MB/s eta 0:00:01\r\u001b[K     |███████████                     | 348kB 6.4MB/s eta 0:00:01\r\u001b[K     |███████████▎                    | 358kB 6.4MB/s eta 0:00:01\r\u001b[K     |███████████▋                    | 368kB 6.4MB/s eta 0:00:01\r\u001b[K     |████████████                    | 378kB 6.4MB/s eta 0:00:01\r\u001b[K     |████████████▎                   | 389kB 6.4MB/s eta 0:00:01\r\u001b[K     |████████████▋                   | 399kB 6.4MB/s eta 0:00:01\r\u001b[K     |█████████████                   | 409kB 6.4MB/s eta 0:00:01\r\u001b[K     |█████████████▏                  | 419kB 6.4MB/s eta 0:00:01\r\u001b[K     |█████████████▌                  | 430kB 6.4MB/s eta 0:00:01\r\u001b[K     |█████████████▉                  | 440kB 6.4MB/s eta 0:00:01\r\u001b[K     |██████████████▏                 | 450kB 6.4MB/s eta 0:00:01\r\u001b[K     |██████████████▌                 | 460kB 6.4MB/s eta 0:00:01\r\u001b[K     |██████████████▉                 | 471kB 6.4MB/s eta 0:00:01\r\u001b[K     |███████████████▏                | 481kB 6.4MB/s eta 0:00:01\r\u001b[K     |███████████████▌                | 491kB 6.4MB/s eta 0:00:01\r\u001b[K     |███████████████▉                | 501kB 6.4MB/s eta 0:00:01\r\u001b[K     |████████████████▏               | 512kB 6.4MB/s eta 0:00:01\r\u001b[K     |████████████████▍               | 522kB 6.4MB/s eta 0:00:01\r\u001b[K     |████████████████▊               | 532kB 6.4MB/s eta 0:00:01\r\u001b[K     |█████████████████               | 542kB 6.4MB/s eta 0:00:01\r\u001b[K     |█████████████████▍              | 552kB 6.4MB/s eta 0:00:01\r\u001b[K     |█████████████████▊              | 563kB 6.4MB/s eta 0:00:01\r\u001b[K     |██████████████████              | 573kB 6.4MB/s eta 0:00:01\r\u001b[K     |██████████████████▍             | 583kB 6.4MB/s eta 0:00:01\r\u001b[K     |██████████████████▊             | 593kB 6.4MB/s eta 0:00:01\r\u001b[K     |███████████████████             | 604kB 6.4MB/s eta 0:00:01\r\u001b[K     |███████████████████▍            | 614kB 6.4MB/s eta 0:00:01\r\u001b[K     |███████████████████▋            | 624kB 6.4MB/s eta 0:00:01\r\u001b[K     |████████████████████            | 634kB 6.4MB/s eta 0:00:01\r\u001b[K     |████████████████████▎           | 645kB 6.4MB/s eta 0:00:01\r\u001b[K     |████████████████████▋           | 655kB 6.4MB/s eta 0:00:01\r\u001b[K     |█████████████████████           | 665kB 6.4MB/s eta 0:00:01\r\u001b[K     |█████████████████████▎          | 675kB 6.4MB/s eta 0:00:01\r\u001b[K     |█████████████████████▋          | 686kB 6.4MB/s eta 0:00:01\r\u001b[K     |██████████████████████          | 696kB 6.4MB/s eta 0:00:01\r\u001b[K     |██████████████████████▎         | 706kB 6.4MB/s eta 0:00:01\r\u001b[K     |██████████████████████▋         | 716kB 6.4MB/s eta 0:00:01\r\u001b[K     |███████████████████████         | 727kB 6.4MB/s eta 0:00:01\r\u001b[K     |███████████████████████▏        | 737kB 6.4MB/s eta 0:00:01\r\u001b[K     |███████████████████████▌        | 747kB 6.4MB/s eta 0:00:01\r\u001b[K     |███████████████████████▉        | 757kB 6.4MB/s eta 0:00:01\r\u001b[K     |████████████████████████▏       | 768kB 6.4MB/s eta 0:00:01\r\u001b[K     |████████████████████████▌       | 778kB 6.4MB/s eta 0:00:01\r\u001b[K     |████████████████████████▉       | 788kB 6.4MB/s eta 0:00:01\r\u001b[K     |█████████████████████████▏      | 798kB 6.4MB/s eta 0:00:01\r\u001b[K     |█████████████████████████▌      | 808kB 6.4MB/s eta 0:00:01\r\u001b[K     |█████████████████████████▉      | 819kB 6.4MB/s eta 0:00:01\r\u001b[K     |██████████████████████████▏     | 829kB 6.4MB/s eta 0:00:01\r\u001b[K     |██████████████████████████▍     | 839kB 6.4MB/s eta 0:00:01\r\u001b[K     |██████████████████████████▊     | 849kB 6.4MB/s eta 0:00:01\r\u001b[K     |███████████████████████████     | 860kB 6.4MB/s eta 0:00:01\r\u001b[K     |███████████████████████████▍    | 870kB 6.4MB/s eta 0:00:01\r\u001b[K     |███████████████████████████▊    | 880kB 6.4MB/s eta 0:00:01\r\u001b[K     |████████████████████████████    | 890kB 6.4MB/s eta 0:00:01\r\u001b[K     |████████████████████████████▍   | 901kB 6.4MB/s eta 0:00:01\r\u001b[K     |████████████████████████████▊   | 911kB 6.4MB/s eta 0:00:01\r\u001b[K     |█████████████████████████████   | 921kB 6.4MB/s eta 0:00:01\r\u001b[K     |█████████████████████████████▍  | 931kB 6.4MB/s eta 0:00:01\r\u001b[K     |█████████████████████████████▋  | 942kB 6.4MB/s eta 0:00:01\r\u001b[K     |██████████████████████████████  | 952kB 6.4MB/s eta 0:00:01\r\u001b[K     |██████████████████████████████▎ | 962kB 6.4MB/s eta 0:00:01\r\u001b[K     |██████████████████████████████▋ | 972kB 6.4MB/s eta 0:00:01\r\u001b[K     |███████████████████████████████ | 983kB 6.4MB/s eta 0:00:01\r\u001b[K     |███████████████████████████████▎| 993kB 6.4MB/s eta 0:00:01\r\u001b[K     |███████████████████████████████▋| 1.0MB 6.4MB/s eta 0:00:01\r\u001b[K     |████████████████████████████████| 1.0MB 6.4MB/s eta 0:00:01\r\u001b[K     |████████████████████████████████| 1.0MB 6.4MB/s \n",
            "\u001b[?25hRequirement already satisfied: future in /usr/local/lib/python3.6/dist-packages (from pyglet==1.3.2) (0.16.0)\n",
            "Installing collected packages: pyglet\n",
            "  Found existing installation: pyglet 1.4.6\n",
            "    Uninstalling pyglet-1.4.6:\n",
            "      Successfully uninstalled pyglet-1.4.6\n",
            "Successfully installed pyglet-1.3.2\n"
          ],
          "name": "stdout"
        }
      ]
    },
    {
      "cell_type": "code",
      "metadata": {
        "id": "JmSCGXzvvbED",
        "colab_type": "code",
        "outputId": "1cf685d4-e35f-485b-b110-911fd990b2ae",
        "colab": {
          "base_uri": "https://localhost:8080/",
          "height": 255
        }
      },
      "source": [
        "!apt-get update > /dev/null 2>&1\n",
        "!apt-get install cmake > /dev/null 2>&1\n",
        "!pip install --upgrade setuptools 2>&1\n",
        "!pip install ez_setup > /dev/null 2>&1\n",
        "!pip install gym[atari] > /dev/null 2>&1"
      ],
      "execution_count": 2,
      "outputs": [
        {
          "output_type": "stream",
          "text": [
            "Collecting setuptools\n",
            "\u001b[?25l  Downloading https://files.pythonhosted.org/packages/db/3c/1065553af43e5f388cb5ae96f44867470063a2d04c02551104dcb12794bd/setuptools-41.5.1-py2.py3-none-any.whl (581kB)\n",
            "\r\u001b[K     |▋                               | 10kB 21.4MB/s eta 0:00:01\r\u001b[K     |█▏                              | 20kB 4.2MB/s eta 0:00:01\r\u001b[K     |█▊                              | 30kB 6.0MB/s eta 0:00:01\r\u001b[K     |██▎                             | 40kB 3.9MB/s eta 0:00:01\r\u001b[K     |██▉                             | 51kB 4.8MB/s eta 0:00:01\r\u001b[K     |███▍                            | 61kB 5.7MB/s eta 0:00:01\r\u001b[K     |████                            | 71kB 6.5MB/s eta 0:00:01\r\u001b[K     |████▌                           | 81kB 7.3MB/s eta 0:00:01\r\u001b[K     |█████                           | 92kB 8.1MB/s eta 0:00:01\r\u001b[K     |█████▋                          | 102kB 6.5MB/s eta 0:00:01\r\u001b[K     |██████▏                         | 112kB 6.5MB/s eta 0:00:01\r\u001b[K     |██████▊                         | 122kB 6.5MB/s eta 0:00:01\r\u001b[K     |███████▎                        | 133kB 6.5MB/s eta 0:00:01\r\u001b[K     |███████▉                        | 143kB 6.5MB/s eta 0:00:01\r\u001b[K     |████████▌                       | 153kB 6.5MB/s eta 0:00:01\r\u001b[K     |█████████                       | 163kB 6.5MB/s eta 0:00:01\r\u001b[K     |█████████▋                      | 174kB 6.5MB/s eta 0:00:01\r\u001b[K     |██████████▏                     | 184kB 6.5MB/s eta 0:00:01\r\u001b[K     |██████████▊                     | 194kB 6.5MB/s eta 0:00:01\r\u001b[K     |███████████▎                    | 204kB 6.5MB/s eta 0:00:01\r\u001b[K     |███████████▉                    | 215kB 6.5MB/s eta 0:00:01\r\u001b[K     |████████████▍                   | 225kB 6.5MB/s eta 0:00:01\r\u001b[K     |█████████████                   | 235kB 6.5MB/s eta 0:00:01\r\u001b[K     |█████████████▌                  | 245kB 6.5MB/s eta 0:00:01\r\u001b[K     |██████████████                  | 256kB 6.5MB/s eta 0:00:01\r\u001b[K     |██████████████▋                 | 266kB 6.5MB/s eta 0:00:01\r\u001b[K     |███████████████▏                | 276kB 6.5MB/s eta 0:00:01\r\u001b[K     |███████████████▊                | 286kB 6.5MB/s eta 0:00:01\r\u001b[K     |████████████████▍               | 296kB 6.5MB/s eta 0:00:01\r\u001b[K     |█████████████████               | 307kB 6.5MB/s eta 0:00:01\r\u001b[K     |█████████████████▌              | 317kB 6.5MB/s eta 0:00:01\r\u001b[K     |██████████████████              | 327kB 6.5MB/s eta 0:00:01\r\u001b[K     |██████████████████▋             | 337kB 6.5MB/s eta 0:00:01\r\u001b[K     |███████████████████▏            | 348kB 6.5MB/s eta 0:00:01\r\u001b[K     |███████████████████▊            | 358kB 6.5MB/s eta 0:00:01\r\u001b[K     |████████████████████▎           | 368kB 6.5MB/s eta 0:00:01\r\u001b[K     |████████████████████▉           | 378kB 6.5MB/s eta 0:00:01\r\u001b[K     |█████████████████████▍          | 389kB 6.5MB/s eta 0:00:01\r\u001b[K     |██████████████████████          | 399kB 6.5MB/s eta 0:00:01\r\u001b[K     |██████████████████████▌         | 409kB 6.5MB/s eta 0:00:01\r\u001b[K     |███████████████████████         | 419kB 6.5MB/s eta 0:00:01\r\u001b[K     |███████████████████████▋        | 430kB 6.5MB/s eta 0:00:01\r\u001b[K     |████████████████████████▎       | 440kB 6.5MB/s eta 0:00:01\r\u001b[K     |████████████████████████▉       | 450kB 6.5MB/s eta 0:00:01\r\u001b[K     |█████████████████████████▍      | 460kB 6.5MB/s eta 0:00:01\r\u001b[K     |██████████████████████████      | 471kB 6.5MB/s eta 0:00:01\r\u001b[K     |██████████████████████████▌     | 481kB 6.5MB/s eta 0:00:01\r\u001b[K     |███████████████████████████     | 491kB 6.5MB/s eta 0:00:01\r\u001b[K     |███████████████████████████▋    | 501kB 6.5MB/s eta 0:00:01\r\u001b[K     |████████████████████████████▏   | 512kB 6.5MB/s eta 0:00:01\r\u001b[K     |████████████████████████████▊   | 522kB 6.5MB/s eta 0:00:01\r\u001b[K     |█████████████████████████████▎  | 532kB 6.5MB/s eta 0:00:01\r\u001b[K     |█████████████████████████████▉  | 542kB 6.5MB/s eta 0:00:01\r\u001b[K     |██████████████████████████████▍ | 552kB 6.5MB/s eta 0:00:01\r\u001b[K     |███████████████████████████████ | 563kB 6.5MB/s eta 0:00:01\r\u001b[K     |███████████████████████████████▌| 573kB 6.5MB/s eta 0:00:01\r\u001b[K     |████████████████████████████████| 583kB 6.5MB/s \n",
            "\u001b[31mERROR: datascience 0.10.6 has requirement folium==0.2.1, but you'll have folium 0.8.3 which is incompatible.\u001b[0m\n",
            "\u001b[?25hInstalling collected packages: setuptools\n",
            "  Found existing installation: setuptools 41.4.0\n",
            "    Uninstalling setuptools-41.4.0:\n",
            "      Successfully uninstalled setuptools-41.4.0\n",
            "Successfully installed setuptools-41.5.1\n"
          ],
          "name": "stdout"
        },
        {
          "output_type": "display_data",
          "data": {
            "application/vnd.colab-display-data+json": {
              "pip_warning": {
                "packages": [
                  "pkg_resources"
                ]
              }
            }
          },
          "metadata": {
            "tags": []
          }
        }
      ]
    },
    {
      "cell_type": "code",
      "metadata": {
        "id": "l97jRlKgvoH3",
        "colab_type": "code",
        "colab": {}
      },
      "source": [
        ""
      ],
      "execution_count": 0,
      "outputs": []
    },
    {
      "cell_type": "code",
      "metadata": {
        "id": "JUFpWgWMwCRw",
        "colab_type": "code",
        "colab": {}
      },
      "source": [
        ""
      ],
      "execution_count": 0,
      "outputs": []
    },
    {
      "cell_type": "code",
      "metadata": {
        "id": "9yEEHfgswCY5",
        "colab_type": "code",
        "colab": {}
      },
      "source": [
        "\"\"\"\n",
        "Utility functions to enable video recording of gym environment and displaying it\n",
        "To enable video, just do \"env = wrap_env(env)\"\"\n",
        "\"\"\"\n",
        "\n",
        "def show_video():\n",
        "  mp4list = glob.glob('video/*.mp4')\n",
        "  if len(mp4list) > 0:\n",
        "    mp4 = mp4list[0]\n",
        "    video = io.open(mp4, 'r+b').read()\n",
        "    encoded = base64.b64encode(video)\n",
        "    ipythondisplay.display(HTML(data='''<video alt=\"test\" autoplay \n",
        "                loop controls style=\"height: 400px;\">\n",
        "                <source src=\"data:video/mp4;base64,{0}\" type=\"video/mp4\" />\n",
        "             </video>'''.format(encoded.decode('ascii'))))\n",
        "  else: \n",
        "    print(\"Could not find video\")\n",
        "    \n",
        "\n",
        "def wrap_env(env):\n",
        "  env = Monitor(env, './video', force=True)\n",
        "  return env"
      ],
      "execution_count": 0,
      "outputs": []
    },
    {
      "cell_type": "code",
      "metadata": {
        "id": "ni5YER0LwCf2",
        "colab_type": "code",
        "outputId": "554189cf-3b8b-4389-ea11-85eda8fe72a1",
        "colab": {
          "base_uri": "https://localhost:8080/",
          "height": 71
        }
      },
      "source": [
        "from pyvirtualdisplay import Display\n",
        "display = Display(visible=0, size=(1400, 900))\n",
        "display.start()"
      ],
      "execution_count": 3,
      "outputs": [
        {
          "output_type": "stream",
          "text": [
            "xdpyinfo was not found, X start can not be checked! Please install xdpyinfo!\n"
          ],
          "name": "stderr"
        },
        {
          "output_type": "execute_result",
          "data": {
            "text/plain": [
              "<Display cmd_param=['Xvfb', '-br', '-nolisten', 'tcp', '-screen', '0', '1400x900x24', ':1001'] cmd=['Xvfb', '-br', '-nolisten', 'tcp', '-screen', '0', '1400x900x24', ':1001'] oserror=None return_code=None stdout=\"None\" stderr=\"None\" timeout_happened=False>"
            ]
          },
          "metadata": {
            "tags": []
          },
          "execution_count": 3
        }
      ]
    },
    {
      "cell_type": "code",
      "metadata": {
        "id": "pWFpeRdBwCpa",
        "colab_type": "code",
        "colab": {}
      },
      "source": [
        "# This code creates a virtual display to draw game images on. \n",
        "# If you are running locally, just ignore it\n",
        "import os\n",
        "if type(os.environ.get(\"DISPLAY\")) is not str or len(os.environ.get(\"DISPLAY\"))==0:\n",
        "    !bash ../xvfb start\n",
        "    %env DISPLAY=:1"
      ],
      "execution_count": 0,
      "outputs": []
    },
    {
      "cell_type": "code",
      "metadata": {
        "id": "HdCwAZEFpRm6",
        "colab_type": "code",
        "outputId": "a8a87337-534b-4e74-9f22-9337cdc42273",
        "colab": {
          "base_uri": "https://localhost:8080/",
          "height": 34
        }
      },
      "source": [
        "%matplotlib inline\n",
        "import gym\n",
        "from gym.wrappers import Monitor\n",
        "\n",
        "import math\n",
        "import random\n",
        "import numpy as np\n",
        "import matplotlib\n",
        "import matplotlib.pyplot as plt\n",
        "from collections import namedtuple\n",
        "from itertools import count\n",
        "from PIL import Image\n",
        "import torch\n",
        "import torch.nn as nn\n",
        "import torch.optim as optim\n",
        "import torch.nn.functional as F\n",
        "import torchvision.transforms as T  \n",
        "\n",
        "is_ipython = 'inline' in matplotlib.get_backend()\n",
        "if is_ipython: from IPython import display\n",
        "env = gym.make('CartPole-v0').unwrapped\n",
        "\n",
        "# set up matplotlib\n",
        "is_ipython = 'inline' in matplotlib.get_backend()\n",
        "if is_ipython:\n",
        "    from IPython import display\n",
        "\n",
        "plt.ion()\n",
        "    \n",
        "# if gpu is to be used\n",
        "device = torch.device(\"cuda\" if torch.cuda.is_available() else \"cpu\")\n",
        "print(device)"
      ],
      "execution_count": 6,
      "outputs": [
        {
          "output_type": "stream",
          "text": [
            "cuda\n"
          ],
          "name": "stdout"
        }
      ]
    },
    {
      "cell_type": "code",
      "metadata": {
        "id": "Ugc8cy2UpRm_",
        "colab_type": "code",
        "colab": {}
      },
      "source": [
        "class DQN(nn.Module):\n",
        "    #def __init__(self, img_height, img_width):\n",
        "    def __init__(self):\n",
        "        super(DQN, self).__init__()\n",
        "        self.conv1 = nn.Conv2d(3, 16, kernel_size=5, stride=2)\n",
        "        self.bn1 = nn.BatchNorm2d(16)\n",
        "        self.conv2 = nn.Conv2d(16, 32, kernel_size=5, stride=2)\n",
        "        self.bn2 = nn.BatchNorm2d(32)\n",
        "        self.conv3 = nn.Conv2d(32, 32, kernel_size=5, stride=2)\n",
        "        self.bn3 = nn.BatchNorm2d(32)\n",
        "        self.head = nn.Linear(448, 2)\n",
        "\n",
        "    def forward(self, x):\n",
        "        x = F.relu(self.bn1(self.conv1(x)))\n",
        "        x = F.relu(self.bn2(self.conv2(x)))\n",
        "        x = F.relu(self.bn3(self.conv3(x)))\n",
        "        return self.head(x.view(x.size(0), -1))"
      ],
      "execution_count": 0,
      "outputs": []
    },
    {
      "cell_type": "code",
      "metadata": {
        "id": "gULSW8tDpRnC",
        "colab_type": "code",
        "colab": {}
      },
      "source": [
        "Experience = namedtuple(\n",
        "    'Experience',\n",
        "    ('state', 'action', 'next_state', 'reward')\n",
        ")\n",
        "\n",
        "BATCH_SIZE = 512\n",
        "GAMMA = 0.999\n",
        "EPS_START = 0.9\n",
        "EPS_END = 0.05\n",
        "EPS_DECAY = 200\n",
        "TARGET_UPDATE = 10\n",
        "steps_done = 0"
      ],
      "execution_count": 0,
      "outputs": []
    },
    {
      "cell_type": "code",
      "metadata": {
        "id": "OvaRycU9pRnF",
        "colab_type": "code",
        "colab": {}
      },
      "source": [
        "class ReplayMemory():\n",
        "    def __init__(self, capacity):\n",
        "        self.capacity = capacity\n",
        "        self.memory = []\n",
        "        self.position = 0\n",
        "\n",
        "    def push(self, *args):\n",
        "        # Saves a transition\n",
        "        if len(self.memory) < self.capacity:\n",
        "            self.memory.append(None)\n",
        "        self.memory[self.position] = Experience(*args)\n",
        "        self.position = (self.position + 1) % self.capacity\n",
        "    \n",
        "    def sample(self, batch_size):\n",
        "        return random.sample(self.memory, batch_size)   \n",
        "\n",
        "    def can_provide_sample(self, batch_size):\n",
        "        return len(self.memory) > batch_size\n",
        "\n",
        "    def __len__(self):\n",
        "        return len(self.memory)\n",
        "    "
      ],
      "execution_count": 0,
      "outputs": []
    },
    {
      "cell_type": "code",
      "metadata": {
        "id": "q8u8nln3pRnI",
        "colab_type": "code",
        "colab": {}
      },
      "source": [
        "resize = T.Compose([T.ToPILImage(),\n",
        "                    T.Resize(40, interpolation=Image.CUBIC),\n",
        "                    T.ToTensor()])\n",
        "\n",
        "# This is based on the code from gym.\n",
        "screen_width = 600\n",
        "\n",
        "\n",
        "def select_action(state):\n",
        "    global steps_done\n",
        "    sample = random.random()\n",
        "    eps_threshold = EPS_END + (EPS_START - EPS_END) * \\\n",
        "        math.exp(-1. * steps_done / EPS_DECAY)\n",
        "    steps_done += 1\n",
        "    if sample > eps_threshold:\n",
        "        with torch.no_grad():\n",
        "            return policy_net(state).max(1)[1].view(1, 1)\n",
        "    else:\n",
        "        return torch.tensor([[random.randrange(2)]], device=device, dtype=torch.long)\n",
        "\n",
        "\n",
        "def get_cart_location():\n",
        "    world_width = env.x_threshold * 2\n",
        "    scale = screen_width / world_width\n",
        "    return int(env.state[0] * scale + screen_width / 2.0)  # MIDDLE OF CART\n",
        "\n",
        "\n",
        "def get_screen():\n",
        "    screen = env.render(mode='rgb_array').transpose(\n",
        "        (2, 0, 1))  # transpose into torch order (CHW)\n",
        "    # Strip off the top and bottom of the screen\n",
        "    screen = screen[:, 160:320]\n",
        "    view_width = 320\n",
        "    cart_location = get_cart_location()\n",
        "    if cart_location < view_width // 2:\n",
        "        slice_range = slice(view_width)\n",
        "    elif cart_location > (screen_width - view_width // 2):\n",
        "        slice_range = slice(-view_width, None)\n",
        "    else:\n",
        "        slice_range = slice(cart_location - view_width // 2,\n",
        "                            cart_location + view_width // 2)\n",
        "    # Strip off the edges, so that we have a square image centered on a cart\n",
        "    screen = screen[:, :, slice_range]\n",
        "    # Convert to float, rescare, convert to torch tensor\n",
        "    # (this doesn't require a copy)\n",
        "    screen = np.ascontiguousarray(screen, dtype=np.float32) / 255\n",
        "    screen = torch.from_numpy(screen)\n",
        "    # Resize, and add a batch dimension (BCHW)\n",
        "    return resize(screen).unsqueeze(0).to(device)\n"
      ],
      "execution_count": 0,
      "outputs": []
    },
    {
      "cell_type": "code",
      "metadata": {
        "id": "0zmFIOvfpRnM",
        "colab_type": "code",
        "colab": {}
      },
      "source": [
        "def plot(values, moving_avg_period):\n",
        "    plt.figure(2)\n",
        "    plt.clf()        \n",
        "    plt.title('Training...')\n",
        "    plt.xlabel('Episode')\n",
        "    plt.ylabel('Duration')\n",
        "    plt.plot(values)\n",
        "\n",
        "    moving_avg = get_moving_average(moving_avg_period, values)\n",
        "    plt.plot(moving_avg)    \n",
        "    plt.pause(0.001)\n",
        "    print(\"Episode\", len(values), \"\\n\", \\\n",
        "        moving_avg_period, \"episode moving avg:\", moving_avg[-1])\n",
        "    if is_ipython: display.clear_output(wait=True)\n",
        "\n",
        "\n",
        "def get_moving_average(period, values):\n",
        "    values = torch.tensor(values, dtype=torch.float)\n",
        "    if len(values) >= period:\n",
        "        moving_avg = values.unfold(dimension=0, size=period, step=1) \\\n",
        "            .mean(dim=1).flatten(start_dim=0)\n",
        "        moving_avg = torch.cat((torch.zeros(period-1), moving_avg))\n",
        "        return moving_avg.numpy()\n",
        "    else:\n",
        "        moving_avg = torch.zeros(len(values))\n",
        "        return moving_avg.numpy()\n",
        "\n",
        "\n",
        "\n",
        "def optimize_model():\n",
        "    if len(memory) < BATCH_SIZE:\n",
        "        return\n",
        "    transitions = memory.sample(BATCH_SIZE)\n",
        "    # Transpose the batch (see http://stackoverflow.com/a/19343/3343043 for\n",
        "    # detailed explanation).\n",
        "    batch = Experience(*zip(*transitions))\n",
        "\n",
        "    # Compute a mask of non-final states and concatenate the batch elements\n",
        "    non_final_mask = torch.tensor(tuple(map(lambda s: s is not None,\n",
        "                                          batch.next_state)), device=device, dtype=torch.bool)\n",
        "    non_final_next_states = torch.cat([s for s in batch.next_state\n",
        "                                                if s is not None])\n",
        "    state_batch = torch.cat(batch.state)\n",
        "    action_batch = torch.cat(batch.action)\n",
        "    reward_batch = torch.cat(batch.reward)\n",
        "\n",
        "    # Compute Q(s_t, a) - the model computes Q(s_t), then we select the\n",
        "    # columns of actions taken\n",
        "    state_action_values = policy_net(state_batch).gather(1, action_batch)\n",
        "\n",
        "    # Compute V(s_{t+1}) for all next states.\n",
        "    next_state_values = torch.zeros(BATCH_SIZE, device=device)\n",
        "    next_state_values[non_final_mask] = target_net(non_final_next_states).max(1)[0].detach()\n",
        "    # Compute the expected Q values\n",
        "    expected_state_action_values = (next_state_values * GAMMA) + reward_batch\n",
        "\n",
        "    # Compute Huber loss\n",
        "    loss = F.smooth_l1_loss(state_action_values, expected_state_action_values.unsqueeze(1))\n",
        "\n",
        "    # Optimize the model\n",
        "    optimizer.zero_grad()\n",
        "    loss.backward()\n",
        "    for param in policy_net.parameters():\n",
        "        param.grad.data.clamp_(-1, 1)\n",
        "    optimizer.step()\n"
      ],
      "execution_count": 0,
      "outputs": []
    },
    {
      "cell_type": "code",
      "metadata": {
        "id": "z3344BVPpRnQ",
        "colab_type": "code",
        "outputId": "ca3690d0-a9c1-402a-a270-4d2f75af7b1d",
        "colab": {
          "base_uri": "https://localhost:8080/",
          "height": 329
        }
      },
      "source": [
        "num_episodes= 1000\n",
        "\n",
        "\n",
        "\n",
        "device = torch.device(\"cuda\" if torch.cuda.is_available() else \"cpu\")\n",
        "# em = CartPoleEnvManager(device)\n",
        "# strategy = EpsilonGreedyStrategy(eps_start, eps_end, eps_decay)\n",
        "\n",
        "# agent = Agent(strategy, em.num_actions_available(), device)\n",
        "memory = ReplayMemory(10000)\n",
        "\n",
        "policy_net = DQN().to(device)\n",
        "target_net = DQN().to(device)\n",
        "\n",
        "target_net.load_state_dict(policy_net.state_dict())\n",
        "target_net.eval()\n",
        "\n",
        "optimizer = optim.Adam(params=policy_net.parameters())#, lr=lr)\n",
        "\n",
        "episode_durations = []\n",
        "\n",
        "for i_episode in range(num_episodes):\n",
        "    # Initialize the environment and state\n",
        "    env.reset()\n",
        "    # print(device)\n",
        "    last_screen = get_screen()\n",
        "    current_screen = get_screen()\n",
        "    state = current_screen - last_screen\n",
        "    for t in count():\n",
        "        # Select and perform an action\n",
        "        action = select_action(state)\n",
        "        _, reward, done, _ = env.step(action.item())\n",
        "        reward = torch.tensor([reward], device=device)\n",
        "\n",
        "        # Observe new state\n",
        "        last_screen = current_screen\n",
        "        current_screen = get_screen()\n",
        "        if not done:\n",
        "            next_state = current_screen - last_screen\n",
        "        else:\n",
        "            next_state = None\n",
        "\n",
        "        # Store the transition in memory\n",
        "        memory.push(state, action, next_state, reward)\n",
        "\n",
        "        # Move to the next state\n",
        "        state = next_state\n",
        "\n",
        "        # Perform one step of the optimization (on the target network)\n",
        "        optimize_model()\n",
        "        if done:\n",
        "            episode_durations.append(t + 1)\n",
        "            plot(episode_durations, 100)\n",
        "            break\n",
        "    # Update the target network\n",
        "    if i_episode % TARGET_UPDATE == 0:\n",
        "        target_net.load_state_dict(policy_net.state_dict())\n",
        "        \n",
        "\n",
        "print('Complete')\n",
        "env.render()\n",
        "env.close()\n",
        "plt.ioff()\n",
        "plt.show()\n",
        "\n",
        "\n",
        "\n"
      ],
      "execution_count": 0,
      "outputs": [
        {
          "output_type": "display_data",
          "data": {
            "image/png": "[encoded data removed]",
            "text/plain": [
              "<Figure size 432x288 with 1 Axes>"
            ]
          },
          "metadata": {
            "tags": []
          }
        },
        {
          "output_type": "stream",
          "text": [
            "Episode 202 \n",
            " 100 episode moving avg: 72.36\n"
          ],
          "name": "stdout"
        }
      ]
    },
    {
      "cell_type": "code",
      "metadata": {
        "id": "-OjaanYApRnU",
        "colab_type": "code",
        "colab": {}
      },
      "source": [
        "env.close()"
      ],
      "execution_count": 0,
      "outputs": []
    },
    {
      "cell_type": "code",
      "metadata": {
        "id": "y-O2Ooat79P6",
        "colab_type": "code",
        "colab": {}
      },
      "source": [
        ""
      ],
      "execution_count": 0,
      "outputs": []
    }
  ]
}